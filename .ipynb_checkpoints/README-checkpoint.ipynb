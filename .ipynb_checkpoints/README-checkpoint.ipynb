{
 "cells": [
  {
   "cell_type": "markdown",
   "metadata": {},
   "source": [
    "# Predicting Contributory Causes of Chicago Auto Accidents"
   ]
  },
  {
   "cell_type": "markdown",
   "metadata": {},
   "source": [
    "Author: [Dom Garcia](mailto:dlgarcia.017@gmail.com)"
   ]
  },
  {
   "cell_type": "markdown",
   "metadata": {},
   "source": [
    "![ChicagoTraffic](Images/ChicagoTraffic3.jpeg)"
   ]
  },
  {
   "cell_type": "markdown",
   "metadata": {},
   "source": [
    "# Overview"
   ]
  },
  {
   "cell_type": "markdown",
   "metadata": {},
   "source": [
    "In this project, I inspect a dataset covering traffic accidents in the city of Chicago, IL (http://www.chicago.gov) and construct a classifier that predicts the primary cause of the accident."
   ]
  },
  {
   "cell_type": "markdown",
   "metadata": {},
   "source": [
    "# Business Problem"
   ]
  },
  {
   "cell_type": "markdown",
   "metadata": {},
   "source": [
    "USAA wants to better understand the liability associated with their customers' accidents in order to determine the premiums they should be charging. As one of the country's biggest metropolitan areas with a variety of weather conditions, Chicago is a prime candidate for studying auto accidents.\n",
    "\n",
    "The company hired a team of data scientists to study the primary cause of these accidents, which will provide insight on whether their customers' premiums should be adjusted. Furthermore, the team's research should make the company more aware of what conditions contribute most to predicting accident causes.\n",
    "\n",
    "As the head of this team, I am in charge of building a classifier that will let the company know, given the facts about a customer's accident, whether that customer is due for an increased premium."
   ]
  },
  {
   "cell_type": "markdown",
   "metadata": {},
   "source": [
    "# Data"
   ]
  },
  {
   "cell_type": "markdown",
   "metadata": {},
   "source": [
    "Data for this project is provided by the [City of Chicago](https://data.cityofchicago.org/Transportation/Traffic-Crashes-Crashes/85ca-t3if) and sourced from various police reports. Ultimately, over 70,000 auto accidents were analyzed & used for model construction. \n",
    "\n",
    "The dataset provides weather conditions, injury types and crash types, but that is just barely scratching the surface. I highly recommend following the link above or looking at the [Column_Description Notebook]() in this repository if you're curious about the wide range of details surrounding each crash. \n",
    "\n",
    "Finally, the target I try to predict in this project is the accident's primary cause, which has four distinct categories that I devised:\n",
    "\n",
    "- **Outside Hazard**: Accidents primarily caused by hazards or distractions that the driver or passenger(s) cannot control while in the vehicle.\n",
    "\n",
    "- **Impairment/Distraction**: Accidents primarily caused by a driver's impairment or by a distraction within in the car. \n",
    "\n",
    "- **Reckless Driving**: Accidents primarily caused by a driver failing to follow commonly understood safe driving procedure.\n",
    "\n",
    "- **Ignoring Traffic Signs & Warnings**: Accidents primarily caused by a driver failing to follow legal warnings, signs or signals posted on the road."
   ]
  },
  {
   "cell_type": "markdown",
   "metadata": {},
   "source": [
    "# Methods"
   ]
  },
  {
   "cell_type": "markdown",
   "metadata": {},
   "source": [
    "This project uses multiclass classification. For this task, a list of features (in this case, facts surrounding an auto accident) is given to a classifier, which then outputs a prediction about the primary cause of the accident.\n",
    "\n",
    "The following algorithms are used & compared to naive DummyClassifiers: Multinomial Logistic Regression, Decision Tree, Random Forest, XGBoost. Each of these classifiers has parameters fine-tuned, whether iteratively for a single parameter (Logistic Regression) or exhaustively for combinations of parameters (Decision Tree, Random Forest, XGBoost)."
   ]
  },
  {
   "cell_type": "markdown",
   "metadata": {},
   "source": [
    "# Results"
   ]
  },
  {
   "cell_type": "markdown",
   "metadata": {},
   "source": [
    "Based on accuracy score, the Multinomial Logistic Regression classifier performs best, with a score of about 61.4% on test data. Though this result may not be optimal, the model is still about 2.5 times more accurate than the project's naive \"random guesses\" (whether uniform or based on class counts).\n",
    "\n",
    "The classifier's cause predictions are, in order from most to least dependable (based on per-class F1): 'Ignoring Traffic Signs & Warnings', 'Outside Hazard', 'Reckless Driving', & 'Impairment/Distraction.' In other words, it is best at predicting whether a crash is primarily caused by ignoring traffic signs & warnings, and worst at predicting whether a crash is primarily caused by impairment/distraction."
   ]
  },
  {
   "cell_type": "markdown",
   "metadata": {},
   "source": [
    "<div>\n",
    "<img src=\"Images/MLR_ClassifierResults.png\" width=\"700\"/>\n",
    "</div>"
   ]
  },
  {
   "cell_type": "markdown",
   "metadata": {},
   "source": [
    "Additionally, iterative modeling narrows down the number of important features to 25 (visualized below as the features that add to the line before it plateaus). As seen in the cumulative importance plot (based on decision tree importances), a majority of input features that I work with in this project have no noticeable impact on classification."
   ]
  },
  {
   "cell_type": "markdown",
   "metadata": {},
   "source": [
    "<div>\n",
    "<img src=\"Images/CumulativeImportance.png\" width=\"800\"/>\n",
    "</div>"
   ]
  },
  {
   "cell_type": "markdown",
   "metadata": {},
   "source": [
    "Despite multiple rounds of feature selection & elimination, the following features have the biggest predictive importance across multiple classifiers, and should be considered important aspects in determining the cause of an auto accident:\n",
    "\n",
    "- First crash type: at an angle, during a turn, collision with a parked vehicle, rear end collision\n",
    "- Outdoor conditions: clear, snowy\n",
    "- Whether there was a traffic control device at the scene\n",
    "- Whether the accident involved a personal injury or a towed vehicle\n",
    "- Whether the accident was a hit-and-run\n",
    "- Road surface conditions: ice, snow/slush, wet\n",
    "- Number of parties involved\n",
    "- Whether the accident occured at an intersection"
   ]
  },
  {
   "cell_type": "markdown",
   "metadata": {},
   "source": [
    "# Conclusions"
   ]
  },
  {
   "cell_type": "markdown",
   "metadata": {},
   "source": [
    "Based on my findings, I would recommend the following to USAA:\n",
    "\n",
    "- **If a client's accident cause is determined to be 'Ignoring Traffic Signs & Warnings': Consider increasing their premium.**\n",
    "- **If a client's accident cause is determined to be 'Outside Hazard': Consider minimal or no increase to the premium, as the accident has been caused by something out of the client's control.** \n",
    "- **If a client's accident cause is determined to be 'Reckless Driving': Consider increasing their premium.** Additionally, flag the client as a candidate to drop if the reckless driving continues. It is harder to write off such causes as accidental or momentary, like one conceivably could with 'Ignoring Traffic Signs & Warnings.'\n",
    "- **If a client's accident cause is determined to be 'Impairment/Distraction': Do not make any conclusions about the case, and use the prediction as a prompt to investigate more closely.** This is due to both the class' poor performance metrics & its relative ambiguity ('Impairment/Distraction' covers everything from drunk driving to medical emergencies while operating a vehicle)"
   ]
  },
  {
   "cell_type": "markdown",
   "metadata": {},
   "source": [
    "## Future Work"
   ]
  },
  {
   "cell_type": "markdown",
   "metadata": {},
   "source": [
    "Given more time, I would do the following:\n",
    "\n",
    "- **Look closely at coefficient penalties for my logistic regression model & determine which features are most impactful for each specific class**. Additionally, this exploration could determine which 'impact features' all of the classes share.\n",
    "\n",
    "- **Inspect the city's dataset on people involved in these same accidents**. Using common indices across the two datasets, I could create a feature that measures how many people were in the vehicles in each wreck and explore the impact that this feature has on the target.\n",
    "\n",
    "- **Look into whether I could break down the 'Impairment/Distraction' class any further**. Perhaps, as this class undergoes specification, the performance for both the class(es) and overall model would improve significantly. "
   ]
  },
  {
   "cell_type": "markdown",
   "metadata": {},
   "source": [
    "# For More Information"
   ]
  },
  {
   "cell_type": "markdown",
   "metadata": {},
   "source": [
    "See the full analysis in the [Jupyter Notebook]() or check out this [presentation overview](). \n",
    "\n",
    "For additional information, contact Dom Garcia at [dlgarcia.017@gmail.com](mailto:dlgarcia.017@gmail.com)"
   ]
  },
  {
   "cell_type": "markdown",
   "metadata": {},
   "source": [
    "![USAA](Images/USAALogo.png)"
   ]
  }
 ],
 "metadata": {
  "kernelspec": {
   "display_name": "Python 3",
   "language": "python",
   "name": "python3"
  },
  "language_info": {
   "codemirror_mode": {
    "name": "ipython",
    "version": 3
   },
   "file_extension": ".py",
   "mimetype": "text/x-python",
   "name": "python",
   "nbconvert_exporter": "python",
   "pygments_lexer": "ipython3",
   "version": "3.8.5"
  },
  "toc": {
   "base_numbering": 1,
   "nav_menu": {},
   "number_sections": true,
   "sideBar": true,
   "skip_h1_title": false,
   "title_cell": "Table of Contents",
   "title_sidebar": "Contents",
   "toc_cell": false,
   "toc_position": {},
   "toc_section_display": true,
   "toc_window_display": false
  },
  "varInspector": {
   "cols": {
    "lenName": 16,
    "lenType": 16,
    "lenVar": 40
   },
   "kernels_config": {
    "python": {
     "delete_cmd_postfix": "",
     "delete_cmd_prefix": "del ",
     "library": "var_list.py",
     "varRefreshCmd": "print(var_dic_list())"
    },
    "r": {
     "delete_cmd_postfix": ") ",
     "delete_cmd_prefix": "rm(",
     "library": "var_list.r",
     "varRefreshCmd": "cat(var_dic_list()) "
    }
   },
   "types_to_exclude": [
    "module",
    "function",
    "builtin_function_or_method",
    "instance",
    "_Feature"
   ],
   "window_display": false
  }
 },
 "nbformat": 4,
 "nbformat_minor": 4
}
