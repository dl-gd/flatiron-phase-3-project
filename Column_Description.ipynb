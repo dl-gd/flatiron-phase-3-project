{
 "cells": [
  {
   "cell_type": "markdown",
   "metadata": {},
   "source": [
    "**df_crash**\n",
    "\n",
    "- CRASH_RECORD_ID : This number can be used to link to the same crash in the Vehicles and People datasets. This number also serves as a unique ID in this dataset.\n",
    "- RD_NO : Chicago Police Department report number. For privacy reasons, this column is blank for recent crashes.\n",
    "- CRASH_DATE_EST_I : Crash date estimated by desk officer or reporting party (only used in cases where crash is reported at police station days after the crash)\n",
    "- CRASH_DATE : Date and time of crash as entered by the reporting officer\n",
    "- POSTED_SPEED_LIMIT : Posted speed limit, as determined by reporting officer\n",
    "- TRAFFIC_CONTROL_DEVICE : Traffic control device present at crash location, as determined by reporting officer\n",
    "- DEVICE_CONDITION : Condition of traffic control device, as determined by reporting officer\n",
    "- WEATHER_CONDITION : Weather condition at time of crash, as determined by reporting officer\n",
    "- LIGHTING_CONDITION : Light condition at time of crash, as determined by reporting officer\n",
    "- FIRST_CRASH_TYPE : Type of first collision in crash\n",
    "- TRAFFICWAY_TYPE : Trafficway type, as determined by reporting officer\n",
    "- LANE_CNT : Total number of through lanes in either direction, excluding turn lanes, as determined by reporting officer (0 = intersection)\n",
    "- ALIGNMENT : Street alignment at crash location, as determined by reporting officer\n",
    "- ROADWAY_SURFACE_COND : Road surface condition, as determined by reporting officer\n",
    "- ROAD_DEFECT : Road defects, as determined by reporting officer\n",
    "- REPORT_TYPE : Administrative report type (at scene, at desk, amended)\n",
    "- CRASH_TYPE : A general severity classification for the crash. Can be either Injury and/or Tow Due to Crash or No Injury / Drive Away\n",
    "- INTERSECTION_RELATED_I : A field observation by the police officer whether an intersection played a role in the crash. Does not represent whether or not the crash occurred within the intersection.\n",
    "- NOT_RIGHT_OF_WAY_I : Whether the crash begun or first contact was made outside of the public right-of-way.\n",
    "- HIT_AND_RUN_I : Crash did/did not involve a driver who caused the crash and fled the scene without exchanging information and/or rendering aid\n",
    "- DAMAGE : A field observation of estimated damage.\n",
    "- DATE_POLICE_NOTIFIED : Calendar date on which police were notified of the crash\n",
    "- PRIM_CONTRIBUTORY_CAUSE : The factor which was most significant in causing the crash, as determined by officer judgment\n",
    "- SEC_CONTRIBUTORY_CAUSE : The factor which was second most significant in causing the crash, as determined by officer judgment\n",
    "- STREET_NO : Street address number of crash location, as determined by reporting officer\n",
    "- STREET_DIRECTION : Street address direction (N,E,S,W) of crash location, as determined by reporting officer\n",
    "- STREET_NAME : Street address name of crash location, as determined by reporting officer\n",
    "- BEAT_OF_OCCURRENCE : Chicago Police Department Beat ID. Boundaries available at https://data.cityofchicago.org/d/aerh-rz74 \n",
    "- PHOTOS_TAKEN_I : Whether the Chicago Police Department took photos at the location of the crash\n",
    "- STATEMENTS_TAKEN_I : Whether statements were taken from unit(s) involved in crash\n",
    "- DOORING_I : Whether crash involved a motor vehicle occupant opening a door into the travel path of a bicyclist, causing a crash\n",
    "- WORK_ZONE_I : Whether the crash occurred in an active work zone\n",
    "- WORK_ZONE_TYPE : The type of work zone, if any\n",
    "- WORKERS_PRESENT_I : Whether construction workers were present in an active work zone at crash location\n",
    "- NUM_UNITS : Number of units involved in the crash. A unit can be a motor vehicle, a pedestrian, a bicyclist, or another non-passenger roadway user. Each unit represents a mode of traffic with an independent trajectory.\n",
    "- MOST_SEVERE_INJURY : Most severe injury sustained by any person involved in the crash\n",
    "- INJURIES_TOTAL : Total persons sustaining fatal, incapacitating, non-incapacitating, and possible injuries as determined by the reporting officer\n",
    "- INJURIES_FATAL : Total persons sustaining fatal injuries in the crash\n",
    "- INJURIES_INCAPACITATING : Total persons sustaining incapacitating/serious injuries in the crash as determined by the reporting officer. Any injury other than fatal injury, which prevents the injured person from walking, driving, or normally continuing the activities they were capable of performing before the injury occurred. Includes severe lacerations, broken limbs, skull or chest injuries, and abdominal injuries.\n",
    "- INJURIES_NON_INCAPACITATING : Total persons sustaining non-incapacitating injuries in the crash as determined by the reporting officer. Any injury, other than fatal or incapacitating injury, which is evident to observers at the scene of the crash. Includes lump on head, abrasions, bruises, and minor lacerations.\n",
    "- INJURIES_REPORTED_NOT_EVIDENT : Total persons sustaining possible injuries in the crash as determined by the reporting officer. Includes momentary unconsciousness, claims of injuries not evident, limping, complaint of pain, nausea, and hysteria.\n",
    "- INJURIES_NO_INDICATION : Total persons sustaining no injuries in the crash as determined by the reporting officer\n",
    "- INJURIES_UNKNOWN : Total persons for whom injuries sustained, if any, are unknown\n",
    "- CRASH_HOUR : The hour of the day component of CRASH_DATE.\n",
    "- CRASH_DAY_OF_WEEK : The day of the week component of CRASH_DATE. Sunday=1\n",
    "- CRASH_MONTH : The month component of CRASH_DATE.\n",
    "- LATITUDE : The latitude of the crash location, as determined by reporting officer, as derived from the reported address of crash\n",
    "- LONGITUDE : The longitude of the crash location, as determined by reporting officer, as derived from the reported address of crash\n",
    "- LOCATION : The crash location, as determined by reporting officer, as derived from the reported address of crash, in a column type that allows for mapping and other geographic analysis in the data portal software"
   ]
  }
 ],
 "metadata": {
  "kernelspec": {
   "display_name": "Python 3",
   "language": "python",
   "name": "python3"
  },
  "language_info": {
   "codemirror_mode": {
    "name": "ipython",
    "version": 3
   },
   "file_extension": ".py",
   "mimetype": "text/x-python",
   "name": "python",
   "nbconvert_exporter": "python",
   "pygments_lexer": "ipython3",
   "version": "3.8.5"
  },
  "toc": {
   "base_numbering": 1,
   "nav_menu": {},
   "number_sections": true,
   "sideBar": true,
   "skip_h1_title": false,
   "title_cell": "Table of Contents",
   "title_sidebar": "Contents",
   "toc_cell": false,
   "toc_position": {},
   "toc_section_display": true,
   "toc_window_display": false
  },
  "varInspector": {
   "cols": {
    "lenName": 16,
    "lenType": 16,
    "lenVar": 40
   },
   "kernels_config": {
    "python": {
     "delete_cmd_postfix": "",
     "delete_cmd_prefix": "del ",
     "library": "var_list.py",
     "varRefreshCmd": "print(var_dic_list())"
    },
    "r": {
     "delete_cmd_postfix": ") ",
     "delete_cmd_prefix": "rm(",
     "library": "var_list.r",
     "varRefreshCmd": "cat(var_dic_list()) "
    }
   },
   "types_to_exclude": [
    "module",
    "function",
    "builtin_function_or_method",
    "instance",
    "_Feature"
   ],
   "window_display": false
  }
 },
 "nbformat": 4,
 "nbformat_minor": 4
}
